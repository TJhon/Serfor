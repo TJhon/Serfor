{
 "cells": [
  {
   "cell_type": "code",
   "execution_count": null,
   "id": "fc420afa",
   "metadata": {},
   "outputs": [],
   "source": [
    "import pandas as pd\n",
    "import requests\n",
    "import time\n",
    "from bs4 import BeautifulSoup\n",
    "\n",
    "\n",
    "session = requests.Session()\n",
    "\n",
    "def get_soup(url, session=session, method = 'g', data:dict = None):\n",
    "    \"\"\"\n",
    "    se obtiene el objeto soup de la pagina\n",
    "    \"\"\"\n",
    "    if method == 'p':\n",
    "        response = session.post(url, data=data)\n",
    "    else:\n",
    "      response = session.get(url)\n",
    "    soup = BeautifulSoup(response.text, 'html.parser')\n",
    "    return soup\n",
    "\n",
    "def get_table_content(soup:BeautifulSoup, attr = {'id': 'contenedor'}):\n",
    "    \"\"\"\n",
    "    Obtenermos los resultados que se presentan en la tabla\n",
    "    \"\"\"\n",
    "    table = soup.find('table', attr)\n",
    "\n",
    "    data = []\n",
    "    for row in table.find_all('tr'):\n",
    "        tds = row.find_all('td')\n",
    "        if len(tds) == 3:\n",
    "            value = tds[0].find('input')['value'] if tds[0].find('input') else None\n",
    "            texto1 = tds[1].get_text(strip=True).replace('\\xa0', '')\n",
    "            texto2 = tds[2].get_text(strip=True).replace('\\xa0', '')\n",
    "            data.append([value, texto1, texto2])\n",
    "    df = pd.DataFrame(data, columns=['value', 'description', 'monto']).dropna()\n",
    "    return df\n",
    "\n",
    "# Encuentra todos los <font class=\"texto8\">\n",
    "def get_total_pages(soup):\n",
    "  font_tags = soup.find_all('font', {'class': 'texto8'})\n",
    "\n",
    "  # Selecciona el que contiene la palabra \"Pag.\"\n",
    "  for tag in font_tags:\n",
    "      if 'Pag.' in tag.text:\n",
    "          total_pages = int(tag.find('b').text)\n",
    "          break\n",
    "  return total_pages\n",
    "\n",
    "def get_view_state_validation(soup_t: BeautifulSoup):\n",
    "  view_state = soup_t.find('input', {'id': '__VIEWSTATE'}).get('value')\n",
    "  event_target = soup_t.find('input', {'id': '__EVENTTARGET'}).get('value')\n",
    "  event_argument = soup_t.find('input', {'id': '__EVENTARGUMENT'}).get('value')\n",
    "  event_validation = soup_t.find('input', {'id': '__EVENTVALIDATION'}).get('value')\n",
    "  {\n",
    "     \n",
    "  }\n",
    "  return \n",
    "\n",
    "def pager_adelante(soup):\n",
    "  button = soup.find('input', {'id': 'Pager1_BtnAdelante'}).get('value')\n",
    "  return button\n",
    "\n",
    "\n",
    "\n",
    "# hagrupacion: lugar defecto (6 - regiones)\n",
    "# hAntAgrupacion: lugar defecto (0 - regiones)\n",
    "# hHistorico: (0 defecto)\n",
    "# hPostedBy: 1d defecto\n"
   ]
  },
  {
   "cell_type": "markdown",
   "id": "5910e485",
   "metadata": {},
   "source": [
    "# Pagina principal Inicial\n",
    "\n",
    "flujo\n",
    "\n",
    "nivel_gobierno: agrupacion 2 (gobiernos locales)\n",
    "municipios: agrupacion 5 (mun.pro. de chachapoyas)\n",
    "            hantagrupacion: 2\n",
    "            hpostedby: 1\n",
    "\n",
    "anios: hfiltros: (2005)\n",
    "    hagrupacion: 1\n",
    "    hantagrupacion: 5\n",
    "    hhistorico: 0/2/5\n",
    "    hpostedby: 1\n",
    "\n",
    "proveedores: hfiltros 2=M&5=300001\n",
    "    hagrupacion: 9\n",
    "    hantagrupacion: 1\n",
    "    hhistorico: 0/2/5/1\n",
    "    hpostedby: 1\n"
   ]
  },
  {
   "cell_type": "code",
   "execution_count": null,
   "id": "b148b2d1",
   "metadata": {},
   "outputs": [],
   "source": [
    "url_top = 'https://apps5.mineco.gob.pe/proveedor/PageTop.aspx'\n",
    "url_botom = 'https://apps5.mineco.gob.pe/proveedor/PageBtm.aspx'\n",
    "soup_top = get_soup(url_top, session)\n",
    "soup_bottom = get_soup(url_botom, session)\n",
    "\n",
    "\n",
    "soup_bottom.find_all('input', {'id': 'BtnDepartamento'})\n"
   ]
  },
  {
   "cell_type": "code",
   "execution_count": 32,
   "id": "e18237f0",
   "metadata": {},
   "outputs": [],
   "source": [
    "valor_inicial = get_table_content(soup_top).iloc[0, 0]"
   ]
  },
  {
   "cell_type": "code",
   "execution_count": null,
   "id": "8fec81fc",
   "metadata": {},
   "outputs": [],
   "source": [
    "agrupacion = {\n",
    "    'tipo_gobierno' : {\n",
    "        'hAgrupacion': 2,\n",
    "        'hAntAgrupacion': 0,\n",
    "        'hHistorico': 0,\n",
    "        'hPostedBy': 1\n",
    "    }\n",
    "}"
   ]
  },
  {
   "cell_type": "code",
   "execution_count": null,
   "id": "2912fe93",
   "metadata": {},
   "outputs": [
    {
     "data": {
      "text/plain": [
       "{'dep': 'g=6;',\n",
       " 'anio': 'g=1;',\n",
       " 'tipo_gob_click': 'g=2;',\n",
       " 'proveedores': 'g=9;',\n",
       " 'tipo_gob_value': 'Tipo Gobierno',\n",
       " 'host': '0'}"
      ]
     },
     "execution_count": 34,
     "metadata": {},
     "output_type": "execute_result"
    }
   ],
   "source": [
    "# # payload para buscar opciones (lista de proveedores regiones / etc)\n",
    "# group_departamento = soup_bottom.find('input', {'id': 'BtnDepartamento'}).get('onclick')\n",
    "# group_anio = soup_bottom.find('input', {'id': 'BtnAno'}).get('onclick')\n",
    "# group_tipo_gob = soup_bottom.find('input', {'id': 'BtnTipoGobierno'}).get('onclick')\n",
    "# group_proveedores = soup_bottom.find('input', {'id': 'BtnProveedor'}).get('onclick')\n",
    "\n",
    "\n",
    "# # payload para el boton opciones de filtrado\n",
    "# tipo_gobierno = soup_bottom.find('input', {'id': 'BtnTipoGobierno'}).get('value')\n",
    "# hosted_by = soup_bottom.find('input', {'id': 'hPostedBy'}).get('value')\n",
    "\n",
    "# dict(\n",
    "#     dep = group_departamento,\n",
    "#     anio = group_anio,\n",
    "#     tipo_gob_click = group_tipo_gob,\n",
    "#     proveedores = group_proveedores,\n",
    "#     tipo_gob_value = tipo_gobierno,\n",
    "#     host = hosted_by\n",
    "# )\n",
    "\n"
   ]
  },
  {
   "cell_type": "code",
   "execution_count": 29,
   "id": "90ad11c0",
   "metadata": {},
   "outputs": [
    {
     "data": {
      "text/plain": [
       "<input class=\"selectores\" id=\"BtnDepartamento\" language=\"javascript\" name=\"BtnDepartamento\" onclick=\"g=6;\" type=\"submit\" value=\"Departamentos\"/>"
      ]
     },
     "execution_count": 29,
     "metadata": {},
     "output_type": "execute_result"
    }
   ],
   "source": [
    "soup_bottom.find('input', {'id': 'BtnDepartamento'})"
   ]
  }
 ],
 "metadata": {
  "kernelspec": {
   "display_name": ".venv",
   "language": "python",
   "name": "python3"
  },
  "language_info": {
   "codemirror_mode": {
    "name": "ipython",
    "version": 3
   },
   "file_extension": ".py",
   "mimetype": "text/x-python",
   "name": "python",
   "nbconvert_exporter": "python",
   "pygments_lexer": "ipython3",
   "version": "3.12.7"
  }
 },
 "nbformat": 4,
 "nbformat_minor": 5
}
